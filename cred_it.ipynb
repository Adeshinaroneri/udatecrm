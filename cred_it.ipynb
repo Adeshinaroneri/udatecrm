{
 "cells": [
  {
   "cell_type": "code",
   "execution_count": 1,
   "id": "a733eeea-5f21-48c4-adee-ca2b3384f2ea",
   "metadata": {},
   "outputs": [],
   "source": [
    "import numpy as np\n",
    "np.set_printoptions(suppress = True, linewidth = 100, precision  = 2)"
   ]
  },
  {
   "cell_type": "code",
   "execution_count": 2,
   "id": "7790ed3e-269e-49c4-bd89-1d1555bba2af",
   "metadata": {},
   "outputs": [
    {
     "data": {
      "text/plain": [
       "array([[48010226.  ,         nan,    35000.  , ...,         nan,         nan,     9452.96],\n",
       "       [57693261.  ,         nan,    30000.  , ...,         nan,         nan,     4679.7 ],\n",
       "       [59432726.  ,         nan,    15000.  , ...,         nan,         nan,     1969.83],\n",
       "       ...,\n",
       "       [50415990.  ,         nan,    10000.  , ...,         nan,         nan,     2185.64],\n",
       "       [46154151.  ,         nan,         nan, ...,         nan,         nan,     3199.4 ],\n",
       "       [66055249.  ,         nan,    10000.  , ...,         nan,         nan,      301.9 ]])"
      ]
     },
     "execution_count": 2,
     "metadata": {},
     "output_type": "execute_result"
    }
   ],
   "source": [
    "raw_data_np = np.genfromtxt('loan-data.csv', delimiter = ';', autostrip = True, skip_header = 1)\n",
    "raw_data_np"
   ]
  },
  {
   "cell_type": "code",
   "execution_count": 3,
   "id": "d4b85a57-e81f-4817-ae57-ddbdeb8ea142",
   "metadata": {},
   "outputs": [
    {
     "data": {
      "text/plain": [
       "88005"
      ]
     },
     "execution_count": 3,
     "metadata": {},
     "output_type": "execute_result"
    }
   ],
   "source": [
    "np.isnan(raw_data_np).sum()"
   ]
  },
  {
   "cell_type": "code",
   "execution_count": 4,
   "id": "abc1e595-5e70-4f5b-8c5f-f854d4db7380",
   "metadata": {
    "scrolled": true
   },
   "outputs": [
    {
     "name": "stderr",
     "output_type": "stream",
     "text": [
      "C:\\Users\\toosh\\AppData\\Local\\Temp\\ipykernel_18760\\3983241459.py:2: RuntimeWarning: Mean of empty slice\n",
      "  temporary_mean = np.nanmean(raw_data_np, axis = 0)\n"
     ]
    }
   ],
   "source": [
    "temporary_fill = np.nanmax(raw_data_np) + 1\n",
    "temporary_mean = np.nanmean(raw_data_np, axis = 0)"
   ]
  },
  {
   "cell_type": "code",
   "execution_count": 5,
   "id": "58744433-a6b6-4d92-b29b-9a1e7648d56d",
   "metadata": {},
   "outputs": [
    {
     "data": {
      "text/plain": [
       "array([54015809.19,         nan,    15273.46,         nan,    15311.04,         nan,       16.62,\n",
       "            440.92,         nan,         nan,         nan,         nan,         nan,     3143.85])"
      ]
     },
     "execution_count": 5,
     "metadata": {},
     "output_type": "execute_result"
    }
   ],
   "source": [
    "temporary_mean"
   ]
  },
  {
   "cell_type": "code",
   "execution_count": 6,
   "id": "ae84eaaf-a3b4-43c7-b15d-fe228f2b2ab0",
   "metadata": {},
   "outputs": [
    {
     "name": "stderr",
     "output_type": "stream",
     "text": [
      "C:\\Users\\toosh\\AppData\\Local\\Temp\\ipykernel_18760\\2763326683.py:1: RuntimeWarning: All-NaN slice encountered\n",
      "  temporary_stat = np.array([np.nanmin(raw_data_np, axis = 0),\n",
      "C:\\Users\\toosh\\AppData\\Local\\Temp\\ipykernel_18760\\2763326683.py:3: RuntimeWarning: All-NaN slice encountered\n",
      "  np.nanmax(raw_data_np, axis = 0)]\n"
     ]
    },
    {
     "data": {
      "text/plain": [
       "array([[  373332.  ,         nan,     1000.  ,         nan,     1000.  ,         nan,        6.  ,\n",
       "              31.42,         nan,         nan,         nan,         nan,         nan,        0.  ],\n",
       "       [54015809.19,         nan,    15273.46,         nan,    15311.04,         nan,       16.62,\n",
       "             440.92,         nan,         nan,         nan,         nan,         nan,     3143.85],\n",
       "       [68616519.  ,         nan,    35000.  ,         nan,    35000.  ,         nan,       28.99,\n",
       "            1372.97,         nan,         nan,         nan,         nan,         nan,    41913.62]])"
      ]
     },
     "execution_count": 6,
     "metadata": {},
     "output_type": "execute_result"
    }
   ],
   "source": [
    "temporary_stat = np.array([np.nanmin(raw_data_np, axis = 0), \n",
    "                           temporary_mean, \n",
    "                           np.nanmax(raw_data_np, axis = 0)]\n",
    "                         )\n",
    "temporary_stat"
   ]
  },
  {
   "cell_type": "code",
   "execution_count": 7,
   "id": "e437e973-f0a6-419d-b57a-03dd938d343e",
   "metadata": {},
   "outputs": [
    {
     "data": {
      "text/plain": [
       "array([ 1,  3,  5,  8,  9, 10, 11, 12], dtype=int64)"
      ]
     },
     "execution_count": 7,
     "metadata": {},
     "output_type": "execute_result"
    }
   ],
   "source": [
    "column_strings = np.argwhere(np.isnan(temporary_mean)).squeeze()\n",
    "column_strings"
   ]
  },
  {
   "cell_type": "code",
   "execution_count": 8,
   "id": "2554e9f2-638e-4421-b91c-760fe476edc5",
   "metadata": {},
   "outputs": [
    {
     "data": {
      "text/plain": [
       "array([ 0,  2,  4,  6,  7, 13], dtype=int64)"
      ]
     },
     "execution_count": 8,
     "metadata": {},
     "output_type": "execute_result"
    }
   ],
   "source": [
    "column_numeric = np.argwhere(np.isnan(temporary_mean) == False).squeeze()\n",
    "column_numeric"
   ]
  },
  {
   "cell_type": "code",
   "execution_count": 11,
   "id": "fbe95ef9-ffb7-4d77-a674-70da56cd1fd3",
   "metadata": {},
   "outputs": [
    {
     "data": {
      "text/plain": [
       "array([['May-15', 'Current', '36 months', ..., 'Verified',\n",
       "        'https://www.lendingclub.com/browse/loanDetail.action?loan_id=48010226', 'CA'],\n",
       "       ['', 'Current', '36 months', ..., 'Source Verified',\n",
       "        'https://www.lendingclub.com/browse/loanDetail.action?loan_id=57693261', 'NY'],\n",
       "       ['Sep-15', 'Current', '36 months', ..., 'Verified',\n",
       "        'https://www.lendingclub.com/browse/loanDetail.action?loan_id=59432726', 'PA'],\n",
       "       ...,\n",
       "       ['Jun-15', 'Current', '36 months', ..., 'Source Verified',\n",
       "        'https://www.lendingclub.com/browse/loanDetail.action?loan_id=50415990', 'CA'],\n",
       "       ['Apr-15', 'Current', '36 months', ..., 'Source Verified',\n",
       "        'https://www.lendingclub.com/browse/loanDetail.action?loan_id=46154151', 'OH'],\n",
       "       ['Dec-15', 'Current', '36 months', ..., '',\n",
       "        'https://www.lendingclub.com/browse/loanDetail.action?loan_id=66055249', 'IL']],\n",
       "      dtype='<U69')"
      ]
     },
     "execution_count": 11,
     "metadata": {},
     "output_type": "execute_result"
    }
   ],
   "source": [
    "loan_data_strings = np.genfromtxt('loan-data.csv', \n",
    "                                  delimiter = ';', \n",
    "                                  autostrip = True, \n",
    "                                  skip_header = 1, \n",
    "                                  usecols = column_strings, \n",
    "                                  dtype = str\n",
    "                                 )\n",
    "loan_data_strings"
   ]
  },
  {
   "cell_type": "code",
   "execution_count": 12,
   "id": "46125234-01d7-4b17-ab3b-b7c5be654502",
   "metadata": {},
   "outputs": [
    {
     "data": {
      "text/plain": [
       "array([[48010226.  ,    35000.  ,    35000.  ,       13.33,     1184.86,     9452.96],\n",
       "       [57693261.  ,    30000.  ,    30000.  , 68616520.  ,      938.57,     4679.7 ],\n",
       "       [59432726.  ,    15000.  ,    15000.  , 68616520.  ,      494.86,     1969.83],\n",
       "       ...,\n",
       "       [50415990.  ,    10000.  ,    10000.  , 68616520.  , 68616520.  ,     2185.64],\n",
       "       [46154151.  , 68616520.  ,    10000.  ,       16.55,      354.3 ,     3199.4 ],\n",
       "       [66055249.  ,    10000.  ,    10000.  , 68616520.  ,      309.97,      301.9 ]])"
      ]
     },
     "execution_count": 12,
     "metadata": {},
     "output_type": "execute_result"
    }
   ],
   "source": [
    "loan_data_numeric = np.genfromtxt('loan-data.csv', \n",
    "                                  delimiter = ';', \n",
    "                                  autostrip = True, \n",
    "                                  skip_header = 1, \n",
    "                                  usecols = column_numeric, \n",
    "                                  filling_values = temporary_fill\n",
    "                                 )\n",
    "loan_data_numeric"
   ]
  },
  {
   "cell_type": "code",
   "execution_count": 13,
   "id": "0f4bcb8e-ab72-43ec-a3a1-2b9241e5fa8b",
   "metadata": {},
   "outputs": [
    {
     "data": {
      "text/plain": [
       "array(['id', 'issue_d', 'loan_amnt', 'loan_status', 'funded_amnt', 'term', 'int_rate',\n",
       "       'installment', 'grade', 'sub_grade', 'verification_status', 'url', 'addr_state',\n",
       "       'total_pymnt'], dtype='<U19')"
      ]
     },
     "execution_count": 13,
     "metadata": {},
     "output_type": "execute_result"
    }
   ],
   "source": [
    "header_full = np.genfromtxt('loan-data.csv', \n",
    "                            delimiter = ';', \n",
    "                            autostrip = True, \n",
    "                            skip_footer = raw_data_np.shape[0], \n",
    "                            dtype = str\n",
    "                           )\n",
    "header_full"
   ]
  },
  {
   "cell_type": "code",
   "execution_count": 14,
   "id": "d88f5127-8368-4bbd-a724-a17c1a0ab23a",
   "metadata": {
    "scrolled": true
   },
   "outputs": [],
   "source": [
    "header_strings, header_numeric = header_full[column_strings], header_full[column_numeric]"
   ]
  },
  {
   "cell_type": "code",
   "execution_count": 15,
   "id": "751ceef3-5215-466e-b185-8c9b530d27c8",
   "metadata": {},
   "outputs": [
    {
     "data": {
      "text/plain": [
       "array(['issue_d', 'loan_status', 'term', 'grade', 'sub_grade', 'verification_status', 'url',\n",
       "       'addr_state'], dtype='<U19')"
      ]
     },
     "execution_count": 15,
     "metadata": {},
     "output_type": "execute_result"
    }
   ],
   "source": [
    "header_strings"
   ]
  },
  {
   "cell_type": "code",
   "execution_count": 16,
   "id": "35fd45bb-9abf-4af6-adcb-0186de184322",
   "metadata": {},
   "outputs": [
    {
     "data": {
      "text/plain": [
       "array(['id', 'loan_amnt', 'funded_amnt', 'int_rate', 'installment', 'total_pymnt'], dtype='<U19')"
      ]
     },
     "execution_count": 16,
     "metadata": {},
     "output_type": "execute_result"
    }
   ],
   "source": [
    "header_numeric"
   ]
  },
  {
   "cell_type": "code",
   "execution_count": 17,
   "id": "24ecca1d-31f4-4561-a02f-1dc6dd8446e9",
   "metadata": {},
   "outputs": [],
   "source": [
    "def checkpoint(file_name, checkpoint_header, checkpoint_data):\n",
    "    np.savez(file_name, header = checkpoint_header, data = checkpoint_data)\n",
    "    checkpoint_variable = np.load(file_name + '.npz')\n",
    "    return(checkpoint_variable)"
   ]
  },
  {
   "cell_type": "code",
   "execution_count": 18,
   "id": "098b9d88-5ce3-4c33-afa1-a8f44cf14328",
   "metadata": {},
   "outputs": [],
   "source": [
    "checkpoint_test = (checkpoint('checkpoint-test', header_strings, loan_data_strings))"
   ]
  },
  {
   "cell_type": "code",
   "execution_count": 19,
   "id": "8cb9b304-0616-4d93-9b80-8ce5516ef087",
   "metadata": {},
   "outputs": [
    {
     "data": {
      "text/plain": [
       "array([['May-15', 'Current', '36 months', ..., 'Verified',\n",
       "        'https://www.lendingclub.com/browse/loanDetail.action?loan_id=48010226', 'CA'],\n",
       "       ['', 'Current', '36 months', ..., 'Source Verified',\n",
       "        'https://www.lendingclub.com/browse/loanDetail.action?loan_id=57693261', 'NY'],\n",
       "       ['Sep-15', 'Current', '36 months', ..., 'Verified',\n",
       "        'https://www.lendingclub.com/browse/loanDetail.action?loan_id=59432726', 'PA'],\n",
       "       ...,\n",
       "       ['Jun-15', 'Current', '36 months', ..., 'Source Verified',\n",
       "        'https://www.lendingclub.com/browse/loanDetail.action?loan_id=50415990', 'CA'],\n",
       "       ['Apr-15', 'Current', '36 months', ..., 'Source Verified',\n",
       "        'https://www.lendingclub.com/browse/loanDetail.action?loan_id=46154151', 'OH'],\n",
       "       ['Dec-15', 'Current', '36 months', ..., '',\n",
       "        'https://www.lendingclub.com/browse/loanDetail.action?loan_id=66055249', 'IL']],\n",
       "      dtype='<U69')"
      ]
     },
     "execution_count": 19,
     "metadata": {},
     "output_type": "execute_result"
    }
   ],
   "source": [
    "checkpoint_test['data']"
   ]
  },
  {
   "cell_type": "code",
   "execution_count": 20,
   "id": "18458baa-9dd7-48b0-a69f-51fd1639ab85",
   "metadata": {},
   "outputs": [
    {
     "data": {
      "text/plain": [
       "array(['issue_d', 'loan_status', 'term', 'grade', 'sub_grade', 'verification_status', 'url',\n",
       "       'addr_state'], dtype='<U19')"
      ]
     },
     "execution_count": 20,
     "metadata": {},
     "output_type": "execute_result"
    }
   ],
   "source": [
    "checkpoint_test['header']"
   ]
  },
  {
   "cell_type": "code",
   "execution_count": null,
   "id": "114e123e-1dc2-4d3a-a187-05c35e2ad376",
   "metadata": {},
   "outputs": [],
   "source": []
  },
  {
   "cell_type": "code",
   "execution_count": 21,
   "id": "00c94262-44c1-4943-88f4-df3c661ff4f5",
   "metadata": {},
   "outputs": [
    {
     "data": {
      "text/plain": [
       "array(['issue_d', 'loan_status', 'term', 'grade', 'sub_grade', 'verification_status', 'url',\n",
       "       'addr_state'], dtype='<U19')"
      ]
     },
     "execution_count": 21,
     "metadata": {},
     "output_type": "execute_result"
    }
   ],
   "source": [
    "header_strings"
   ]
  },
  {
   "cell_type": "code",
   "execution_count": 22,
   "id": "4a593ef0-4c98-4875-87d3-451e70cdb76b",
   "metadata": {},
   "outputs": [
    {
     "data": {
      "text/plain": [
       "'issue_date'"
      ]
     },
     "execution_count": 22,
     "metadata": {},
     "output_type": "execute_result"
    }
   ],
   "source": [
    "header_strings[0] = 'issue_date'\n",
    "header_strings[0]"
   ]
  },
  {
   "cell_type": "code",
   "execution_count": 23,
   "id": "70fd2c58-afd0-4291-9e0e-2c51441c84d6",
   "metadata": {},
   "outputs": [
    {
     "data": {
      "text/plain": [
       "array(['issue_date', 'loan_status', 'term', 'grade', 'sub_grade', 'verification_status', 'url',\n",
       "       'addr_state'], dtype='<U19')"
      ]
     },
     "execution_count": 23,
     "metadata": {},
     "output_type": "execute_result"
    }
   ],
   "source": [
    "header_strings"
   ]
  },
  {
   "cell_type": "code",
   "execution_count": 24,
   "id": "c61a44d3-7866-41b6-84ea-de68b8313fb5",
   "metadata": {},
   "outputs": [
    {
     "data": {
      "text/plain": [
       "array(['May-15', '', 'Sep-15', ..., 'Jun-15', 'Apr-15', 'Dec-15'], dtype='<U69')"
      ]
     },
     "execution_count": 24,
     "metadata": {},
     "output_type": "execute_result"
    }
   ],
   "source": [
    "loan_data_strings[:,0]"
   ]
  },
  {
   "cell_type": "code",
   "execution_count": 25,
   "id": "99693d3b-71c4-4a46-859e-f045bd68469f",
   "metadata": {},
   "outputs": [
    {
     "data": {
      "text/plain": [
       "array(['', 'Apr-15', 'Aug-15', 'Dec-15', 'Feb-15', 'Jan-15', 'Jul-15', 'Jun-15', 'Mar-15',\n",
       "       'May-15', 'Nov-15', 'Oct-15', 'Sep-15'], dtype='<U69')"
      ]
     },
     "execution_count": 25,
     "metadata": {},
     "output_type": "execute_result"
    }
   ],
   "source": [
    "np.unique(loan_data_strings[:,0])"
   ]
  },
  {
   "cell_type": "code",
   "execution_count": 26,
   "id": "1fcda48f-7f0e-420d-903d-b2166be13cbe",
   "metadata": {},
   "outputs": [
    {
     "data": {
      "text/plain": [
       "chararray(['May', '', 'Sep', ..., 'Jun', 'Apr', 'Dec'], dtype='<U69')"
      ]
     },
     "execution_count": 26,
     "metadata": {},
     "output_type": "execute_result"
    }
   ],
   "source": [
    "np.chararray.strip(loan_data_strings[:,0], '-15')"
   ]
  },
  {
   "cell_type": "code",
   "execution_count": 27,
   "id": "801a1ddd-d738-4059-bf3a-bea0b82d002d",
   "metadata": {},
   "outputs": [
    {
     "data": {
      "text/plain": [
       "array(['May', '', 'Sep', ..., 'Jun', 'Apr', 'Dec'], dtype='<U69')"
      ]
     },
     "execution_count": 27,
     "metadata": {},
     "output_type": "execute_result"
    }
   ],
   "source": [
    "loan_data_strings[:,0] = np.chararray.strip(loan_data_strings[:,0], '-15')\n",
    "loan_data_strings[:,0]"
   ]
  },
  {
   "cell_type": "code",
   "execution_count": 28,
   "id": "5c18ad41-307c-4d53-8653-2ef991a62783",
   "metadata": {},
   "outputs": [
    {
     "data": {
      "text/plain": [
       "array(['', 'Apr', 'Aug', 'Dec', 'Feb', 'Jan', 'Jul', 'Jun', 'Mar', 'May', 'Nov', 'Oct', 'Sep'],\n",
       "      dtype='<U69')"
      ]
     },
     "execution_count": 28,
     "metadata": {},
     "output_type": "execute_result"
    }
   ],
   "source": [
    "np.unique (loan_data_strings[:,0])"
   ]
  },
  {
   "cell_type": "code",
   "execution_count": 29,
   "id": "38aa3af2-8486-4e8b-8bfd-41e9e691491e",
   "metadata": {},
   "outputs": [
    {
     "data": {
      "text/plain": [
       "array(['', 'Jan', 'Feb', 'Mar', 'Apr', 'May', 'Jun', 'Jul', 'Aug', 'Sep', 'Oct', 'Nov', 'Dec'],\n",
       "      dtype='<U3')"
      ]
     },
     "execution_count": 29,
     "metadata": {},
     "output_type": "execute_result"
    }
   ],
   "source": [
    "months = np.array(['', 'Jan', 'Feb', 'Mar', 'Apr', 'May', 'Jun', 'Jul', 'Aug', 'Sep', 'Oct', 'Nov', 'Dec'])\n",
    "months"
   ]
  },
  {
   "cell_type": "code",
   "execution_count": 30,
   "id": "c2e1df76-c5a7-4a5e-92d2-11032161251b",
   "metadata": {},
   "outputs": [],
   "source": [
    "for i in range(13):\n",
    "    loan_data_strings[:,0] = np.where(loan_data_strings[:,0] == months[i],\n",
    "                                     i,\n",
    "                                     loan_data_strings[:,0])"
   ]
  },
  {
   "cell_type": "code",
   "execution_count": 31,
   "id": "2ded893b-9eb1-48f2-a825-d3112ad09763",
   "metadata": {},
   "outputs": [
    {
     "data": {
      "text/plain": [
       "array(['5', '0', '9', ..., '6', '4', '12'], dtype='<U69')"
      ]
     },
     "execution_count": 31,
     "metadata": {},
     "output_type": "execute_result"
    }
   ],
   "source": [
    "loan_data_strings[:,0]"
   ]
  },
  {
   "cell_type": "code",
   "execution_count": 32,
   "id": "58009874-92d5-4666-97db-0957a9d53770",
   "metadata": {},
   "outputs": [
    {
     "data": {
      "text/plain": [
       "array(['0', '1', '10', '11', '12', '2', '3', '4', '5', '6', '7', '8', '9'], dtype='<U69')"
      ]
     },
     "execution_count": 32,
     "metadata": {},
     "output_type": "execute_result"
    }
   ],
   "source": [
    "np.unique (loan_data_strings[:,0])"
   ]
  },
  {
   "cell_type": "code",
   "execution_count": 33,
   "id": "4fa60e8f-7a12-42ef-a2ba-5c7e1e208d40",
   "metadata": {},
   "outputs": [
    {
     "data": {
      "text/plain": [
       "array(['issue_date', 'loan_status', 'term', 'grade', 'sub_grade', 'verification_status', 'url',\n",
       "       'addr_state'], dtype='<U19')"
      ]
     },
     "execution_count": 33,
     "metadata": {},
     "output_type": "execute_result"
    }
   ],
   "source": [
    "header_strings"
   ]
  },
  {
   "cell_type": "code",
   "execution_count": 34,
   "id": "bca28e77-a657-45ce-970b-ed6bd8f80305",
   "metadata": {},
   "outputs": [
    {
     "data": {
      "text/plain": [
       "array(['Current', 'Current', 'Current', ..., 'Current', 'Current', 'Current'], dtype='<U69')"
      ]
     },
     "execution_count": 34,
     "metadata": {},
     "output_type": "execute_result"
    }
   ],
   "source": [
    "loan_data_strings[:,1]"
   ]
  },
  {
   "cell_type": "code",
   "execution_count": 35,
   "id": "b6579023-da03-479b-abea-5309ba10b6c8",
   "metadata": {},
   "outputs": [
    {
     "data": {
      "text/plain": [
       "array(['', 'Charged Off', 'Current', 'Default', 'Fully Paid', 'In Grace Period', 'Issued',\n",
       "       'Late (16-30 days)', 'Late (31-120 days)'], dtype='<U69')"
      ]
     },
     "execution_count": 35,
     "metadata": {},
     "output_type": "execute_result"
    }
   ],
   "source": [
    "np.unique(loan_data_strings[:,1])"
   ]
  },
  {
   "cell_type": "code",
   "execution_count": 36,
   "id": "0e5f26fb-046a-4c60-9a26-ce3eadab8bdd",
   "metadata": {},
   "outputs": [
    {
     "data": {
      "text/plain": [
       "9"
      ]
     },
     "execution_count": 36,
     "metadata": {},
     "output_type": "execute_result"
    }
   ],
   "source": [
    "np.unique (loan_data_strings[:,1]).size"
   ]
  },
  {
   "cell_type": "code",
   "execution_count": 37,
   "id": "88654c58-d105-40ed-94c1-f8bb4fcc2438",
   "metadata": {},
   "outputs": [
    {
     "data": {
      "text/plain": [
       "array(['', 'Charged Off', 'Default', 'late (31-120 days)'], dtype='<U18')"
      ]
     },
     "execution_count": 37,
     "metadata": {},
     "output_type": "execute_result"
    }
   ],
   "source": [
    "status_bad = np.array(['', 'Charged Off', 'Default', 'late (31-120 days)'])\n",
    "status_bad"
   ]
  },
  {
   "cell_type": "code",
   "execution_count": 38,
   "id": "d159087c-1386-410f-9b45-dc686b7fa944",
   "metadata": {},
   "outputs": [],
   "source": [
    "loan_data_strings[:,1] = np.where(np.isin(loan_data_strings[:,1], status_bad), 0, 1)"
   ]
  },
  {
   "cell_type": "code",
   "execution_count": 39,
   "id": "d7caaca5-3ae9-4790-9bef-9d1974de05e8",
   "metadata": {},
   "outputs": [
    {
     "data": {
      "text/plain": [
       "array(['1', '1', '1', ..., '1', '1', '1'], dtype='<U69')"
      ]
     },
     "execution_count": 39,
     "metadata": {},
     "output_type": "execute_result"
    }
   ],
   "source": [
    "loan_data_strings[:,1]"
   ]
  },
  {
   "cell_type": "code",
   "execution_count": 40,
   "id": "1457601a-d147-4437-8dd7-974584c55f56",
   "metadata": {},
   "outputs": [
    {
     "data": {
      "text/plain": [
       "array(['0', '1'], dtype='<U69')"
      ]
     },
     "execution_count": 40,
     "metadata": {},
     "output_type": "execute_result"
    }
   ],
   "source": [
    "np.unique (loan_data_strings[:,1])"
   ]
  },
  {
   "cell_type": "code",
   "execution_count": null,
   "id": "2864878d-c136-45e9-a381-d20b88b22665",
   "metadata": {},
   "outputs": [],
   "source": []
  },
  {
   "cell_type": "code",
   "execution_count": null,
   "id": "d2a2f071-6f18-46fb-b556-9c3815ec5893",
   "metadata": {},
   "outputs": [],
   "source": []
  },
  {
   "cell_type": "code",
   "execution_count": null,
   "id": "b36991dc-0f68-44fb-aaee-e0067d414cb5",
   "metadata": {},
   "outputs": [],
   "source": []
  },
  {
   "cell_type": "code",
   "execution_count": null,
   "id": "fcb5b37d-44c0-490b-809c-4db67e61362c",
   "metadata": {},
   "outputs": [],
   "source": []
  },
  {
   "cell_type": "code",
   "execution_count": null,
   "id": "7026cf39-0512-4455-8fcd-bda322afb061",
   "metadata": {},
   "outputs": [],
   "source": []
  },
  {
   "cell_type": "code",
   "execution_count": null,
   "id": "036d6f6c-c6c9-440d-abf6-45b81d4deeaa",
   "metadata": {},
   "outputs": [],
   "source": []
  }
 ],
 "metadata": {
  "kernelspec": {
   "display_name": "Python 3 (ipykernel)",
   "language": "python",
   "name": "python3"
  },
  "language_info": {
   "codemirror_mode": {
    "name": "ipython",
    "version": 3
   },
   "file_extension": ".py",
   "mimetype": "text/x-python",
   "name": "python",
   "nbconvert_exporter": "python",
   "pygments_lexer": "ipython3",
   "version": "3.11.7"
  }
 },
 "nbformat": 4,
 "nbformat_minor": 5
}
